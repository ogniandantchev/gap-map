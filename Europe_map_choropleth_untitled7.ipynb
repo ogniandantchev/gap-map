{
  "nbformat": 4,
  "nbformat_minor": 0,
  "metadata": {
    "colab": {
      "provenance": [],
      "authorship_tag": "ABX9TyNM/LDOTtoe/IDM9wP/oW6E",
      "include_colab_link": true
    },
    "kernelspec": {
      "name": "python3",
      "display_name": "Python 3"
    },
    "language_info": {
      "name": "python"
    }
  },
  "cells": [
    {
      "cell_type": "markdown",
      "metadata": {
        "id": "view-in-github",
        "colab_type": "text"
      },
      "source": [
        "<a href=\"https://colab.research.google.com/github/ogniandantchev/gap-map/blob/master/Europe_map_choropleth_untitled7.ipynb\" target=\"_parent\"><img src=\"https://colab.research.google.com/assets/colab-badge.svg\" alt=\"Open In Colab\"/></a>"
      ]
    },
    {
      "cell_type": "code",
      "execution_count": 1,
      "metadata": {
        "id": "Wuuyh-x6OF0l"
      },
      "outputs": [],
      "source": [
        "import folium\n",
        "import geopandas as gpd\n",
        "import pandas as pd\n",
        "import json\n"
      ]
    },
    {
      "cell_type": "code",
      "source": [
        "\n",
        "europe_gdf= gpd.read_file(\"europe.geo.json\")\n",
        "# 1. Load GeoJSON data for Europe\n",
        "# try:\n",
        "#     europe_gdf = gpd.read_file(gpd.datasets.get_path('naturalearth_lowres'))\n",
        "#     europe_gdf = europe_gdf[europe_gdf['continent'] == 'Europe']\n",
        "# except Exception as e:\n",
        "#     print(f\"Error loading GeoJSON data: {e}. Please ensure geopandas is installed and data is available.\")\n",
        "#     exit()\n",
        "\n",
        "# Filter out Russia and Belarus from GeoJSON data\n",
        "#europe_countries_gdf = europe_gdf[~europe_gdf['name'].isin(['Russia', 'Belarus'])]\n",
        "\n",
        "# List of European Countries (for GDP data filtering and validation later)\n",
        "european_countries_list = europe_gdf['name'].tolist()\n",
        "\n",
        "# 2. Load GDP data for European countries\n",
        "# Using a simplified GDP data (replace with actual data loading and processing)\n",
        "# **IMPORTANT**: Replace this with actual GDP data loading from a reliable source (e.g., World Bank, IMF)\n",
        "# For demonstration, creating a dummy GDP DataFrame.\n",
        "# In a real application, you would load from CSV/Excel, clean and preprocess.\n",
        "\n",
        "# **Replace this with your actual GDP data loading and processing**\n",
        "# Example of loading from CSV (you would need to download GDP data CSV)\n",
        "# gdp_df = pd.read_csv('path_to_your_gdp_data.csv')\n",
        "# gdp_df = gdp_df[['Country Name', 'GDP_Value_Column_Name']] # Select relevant columns\n",
        "# gdp_df.columns = ['name', 'gdp'] # Rename columns for merging\n",
        "\n",
        "# Dummy GDP Dataframe - Replace with actual data loading\n",
        "data = {'name': ['Germany', 'France', 'United Kingdom', 'Italy', 'Spain', 'Poland', 'Netherlands', 'Belgium', 'Sweden', 'Austria', 'Romania', 'Czechia', 'Greece', 'Portugal', 'Hungary', 'Denmark', 'Finland', 'Slovakia', 'Ireland', 'Croatia', 'Bulgaria', 'Lithuania', 'Latvia', 'Slovenia', 'Estonia', 'Cyprus', 'Luxembourg', 'Malta', 'Iceland', 'Norway', 'Switzerland', 'Albania', 'Bosnia and Herzegovina', 'North Macedonia', 'Serbia', 'Montenegro', 'Kosovo'],\n",
        "        'gdp': [4223, 2924, 3100, 2050, 1430, 680, 1020, 590, 630, 470, 300, 280, 220, 240, 180, 390, 290, 120, 530, 70, 90, 60, 40, 60, 30, 25, 80, 17, 28, 520, 810, 18, 20, 15, 62, 6, 9]} # GDP in Billions USD (Example values)\n",
        "gdp_df = pd.DataFrame(data)\n",
        "\n"
      ],
      "metadata": {
        "id": "vRF2BI4aOK6A"
      },
      "execution_count": 4,
      "outputs": []
    },
    {
      "cell_type": "code",
      "source": [
        "# Ensure GDP data is for countries in our European GeoJSON and list\n",
        "gdp_df_europe = gdp_df[gdp_df['name'].isin(european_countries_list)]\n",
        "\n",
        "# Validate if all countries in GDP are in GeoJSON (and vice versa for relevant countries)\n",
        "countries_in_gdp = set(gdp_df_europe['name'])\n",
        "countries_in_geojson = set(europe_gdf['name'])\n",
        "missing_in_geojson = countries_in_gdp - countries_in_geojson\n",
        "missing_in_gdp = countries_in_geojson - countries_in_gdp\n",
        "\n",
        "if missing_in_geojson:\n",
        "    print(f\"Warning: Countries in GDP data but not in GeoJSON: {missing_in_geojson}. These will be excluded.\")\n",
        "if missing_in_gdp:\n",
        "    print(f\"Warning: Countries in GeoJSON but not in GDP data: {missing_in_gdp}. These will be excluded.\")\n",
        "\n",
        "# Merge GDP data into GeoJSON dataframe\n",
        "merged_gdf = europe_gdf.merge(gdp_df_europe, on='name', how='inner')\n",
        "\n",
        "# 3. Calculate total GDP and prorate AI Revenue\n",
        "total_gdp = merged_gdf['gdp'].sum()\n",
        "total_ai_revenue = 60 # Billion EUR\n",
        "\n",
        "merged_gdf['ai_revenue_prorated'] = (merged_gdf['gdp'] / total_gdp) * total_ai_revenue\n",
        "\n",
        "# Convert AI revenue to EUR (assuming GDP is in USD and conversion rate is needed)\n",
        "# For simplicity, assuming 1 USD = 1 EUR for demonstration. **Adjust as needed based on actual data.**\n",
        "merged_gdf['ai_revenue_prorated_eur'] = merged_gdf['ai_revenue_prorated'] # No conversion for now, assuming USD is close to EUR for demo.\n",
        "\n",
        "\n",
        "# 4. Create Choropleth map\n",
        "# Convert GeoDataFrame to GeoJSON for Folium\n",
        "europe_geojson = json.loads(merged_gdf.to_json())\n",
        "\n",
        "\n",
        "# Initialize Folium map centered on Europe\n",
        "europe_map = folium.Map(location=[50, 10], zoom_start=3.5)\n",
        "\n",
        "# Choropleth layer\n",
        "# Create the choropleth\n",
        "choropleth = folium.Choropleth(\n",
        "    geo_data=europe_geojson,  # The GeoJSON data\n",
        "    data=merged_gdf,          # The Pandas GeoDataFrame with your data\n",
        "    columns=['name', 'ai_revenue_prorated_eur'],  # Columns to use\n",
        "    key_on='feature.properties.name', # How to join the data to the GeoJSON\n",
        "    fill_color='YlGnBu',       # Color scale\n",
        "    fill_opacity=0.7,        # Fill opacity\n",
        "    line_opacity=0.2,        # Border opacity\n",
        "    legend_name='Prorated AI Revenue (Billion EUR)', # Legend title\n",
        "    highlight=True,           # Enable highlighting on mouseover\n",
        "    tooltip=folium.GeoJsonTooltip(fields=['name', 'ai_revenue_prorated_eur'], aliases=['Country: ', 'AI Revenue (Billion EUR): '])\n",
        ").add_to(europe_map)\n",
        "\n",
        "# 2. Create a GeoJson layer for the tooltips\n",
        "geojson_layer = folium.GeoJson(\n",
        "    europe_geojson,  # Use the same GeoJSON\n",
        "    name=\"Countries\",  # Give it a name (optional)\n",
        "    tooltip=folium.GeoJsonTooltip( # Attach the tooltip here\n",
        "        fields=['name', 'ai_revenue_prorated_eur'],\n",
        "        aliases=['Country: ', 'AI Revenue (Billion EUR): '],\n",
        "        labels=True,\n",
        "        sticky=True,\n",
        "    )\n",
        ").add_to(europe_map) # Add the GeoJson layer to the map\n",
        "# Add Layer Control\n",
        "folium.LayerControl().add_to(europe_map)\n",
        "\n",
        "# Save the map\n",
        "europe_map.save(\"european_ai_revenue_map.html\")\n",
        "\n",
        "print(\"Choropleth map created and saved as european_ai_revenue_map.html\")"
      ],
      "metadata": {
        "colab": {
          "base_uri": "https://localhost:8080/"
        },
        "id": "yFnEYyczOOoS",
        "outputId": "929d731f-96a2-42a5-aea1-78f53a3b8c1a"
      },
      "execution_count": 14,
      "outputs": [
        {
          "output_type": "stream",
          "name": "stdout",
          "text": [
            "Warning: Countries in GeoJSON but not in GDP data: {'Bosnia and Herz.', 'Ukraine', 'Moldova'}. These will be excluded.\n",
            "Choropleth map created and saved as european_ai_revenue_map.html\n"
          ]
        }
      ]
    },
    {
      "cell_type": "code",
      "source": [],
      "metadata": {
        "id": "b3Gm5mw4e5_N"
      },
      "execution_count": null,
      "outputs": []
    }
  ]
}